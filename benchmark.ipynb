{
 "cells": [
  {
   "cell_type": "markdown",
   "metadata": {},
   "source": [
    "# title:        MULAN: A Blind and Off-Grid Method for Multichannel Echo Retrieval\n",
    "\n",
    "authors:  helena.peic.tukuljac@gmail.com, antoine.deleforge@inria.fr\n",
    "\n",
    "year:        2018\n",
    "\n",
    "license:    GPL v3"
   ]
  },
  {
   "cell_type": "markdown",
   "metadata": {},
   "source": [
    "This notebook serves as a benchmark for performance evaluation in a multichannel setting for *on-* and *off-grid* blind deconvolution. It will generate phase transition plots for our method (that works in frequency domain) and compare its performance against the current state of the art methods (that work in time domain):\n",
    "# a) Cross-relation method\n",
    "# b) LASSO with h(1) = 1 constriant\n",
    "- we want to solve:\n",
    "\\begin{equation*}\n",
    "\\begin{aligned}\n",
    "& \\underset{x}{\\text{minimize}}\n",
    "& & \\lvert\\lvert \\mathbf{A} \\mathbf{x}\\rvert \\rvert_2 + \\lambda \\lvert\\lvert\\mathbf{x}\\rvert\\rvert_1 \\\\\n",
    "& \\text{subject to}\n",
    "& & \\mathbf{x}[1]=1\n",
    "\\end{aligned}\n",
    "\\end{equation*}\n",
    "- we decompose our optimization variable as: $\\mathbf{x} = [1; \\mathbf{y}]$\n",
    "- we decompose our optimization matrix as: $\\mathbf{A} = [\\mathbf{a}_1; \\mathbf{A}_2]$\n",
    "- now we have an unconstrained LASSO\n",
    "\\begin{equation*}\n",
    "\\begin{aligned}\n",
    "& \\underset{x}{\\text{minimize}}\n",
    "& & \\lvert\\lvert \\mathbf{A}_2 \\mathbf{y} + \\mathbf{a}_1\\rvert \\rvert_2 + \\lambda \\lvert\\lvert\\mathbf{x}\\rvert\\rvert_1 \\\\\n",
    "\\end{aligned}\n",
    "\\end{equation*}\n",
    "\n",
    "# c) MULAN (MULtichannel ANnihilation)"
   ]
  },
  {
   "cell_type": "code",
   "execution_count": 1,
   "metadata": {},
   "outputs": [],
   "source": [
    "import numpy as np\n",
    "\n",
    "from algorithm import InitializationType\n",
    "from measurement_tools import InputSignalType, FilterType\n",
    "import test_set\n",
    "import test_tools"
   ]
  },
  {
   "cell_type": "markdown",
   "metadata": {},
   "source": [
    "# Benchmark with state of the art\n",
    "<table>\n",
    "  <thead>\n",
    "    <tr>\n",
    "      <th>Setting</th>\n",
    "      <th>Experiement #</th>\n",
    "      <th>Fs (sampling frequency)</th>\n",
    "      <th>nF (# frequencies)</th>\n",
    "      <th>K (sparsity)</th>\n",
    "      <th>M (microphone #)</th>\n",
    "      <th>Minimal separation</th>\n",
    "      <th>Input signal</th>\n",
    "      <th>Input signal length</th>      \n",
    "    </tr>\n",
    "  </thead>\n",
    "  <tbody>\n",
    "    <tr>\n",
    "      <td>On Grid 1 (artificial RIR)</td>\n",
    "      <td>100</td>\n",
    "      <td>16kHz</td>\n",
    "      <td>401</td>\n",
    "      <td>7</td>\n",
    "      <td>2</td>\n",
    "      <td>1ms</td>\n",
    "      <td>White noise</td>\n",
    "      <td>0.25s</td>\n",
    "    </tr>  \n",
    "    <tr>\n",
    "      <td>On Grid 2 (artificial RIR)</td>\n",
    "      <td>100</td>\n",
    "      <td>16kHz</td>\n",
    "      <td>401</td>\n",
    "      <td>7</td>\n",
    "      <td>2</td>\n",
    "      <td>1ms</td>\n",
    "      <td>Speech</td>\n",
    "      <td>0.25s</td>\n",
    "    </tr>  \n",
    "    <tr>\n",
    "      <td>Off Grid 1 (pyroomacoustics simulation)</td>\n",
    "      <td>100</td>\n",
    "      <td>16kHz</td>\n",
    "      <td>401</td>\n",
    "      <td>7</td>\n",
    "      <td>2</td>\n",
    "      <td>1ms</td>\n",
    "      <td>White noise</td>\n",
    "      <td>0.25s</td>\n",
    "    </tr>\n",
    "    <tr>\n",
    "      <td>Off Grid 2 (pyroomacoustics simulation)</td>\n",
    "      <td>100</td>\n",
    "      <td>16kHz</td>\n",
    "      <td>401</td>\n",
    "      <td>7</td>\n",
    "      <td>2</td>\n",
    "      <td>1ms</td>\n",
    "      <td>Speech</td>\n",
    "      <td>0.25s</td>\n",
    "    </tr>\n",
    "  </tbody>\n",
    "</table>\n",
    "\n",
    "Success threshold: location - 1/Fs and weight - 0.01.\n",
    "Among the successes, mean and standard deviation of echo location/amplitude are calculated."
   ]
  },
  {
   "cell_type": "markdown",
   "metadata": {},
   "source": [
    "Parameters that stay the same for all cases:"
   ]
  },
  {
   "cell_type": "code",
   "execution_count": 2,
   "metadata": {},
   "outputs": [],
   "source": [
    "T = 0.25\n",
    "K = 7\n",
    "M = 2\n",
    "E = 100\n",
    "F = 16000\n",
    "nF = 401\n",
    "init_option = InitializationType.Random"
   ]
  },
  {
   "cell_type": "code",
   "execution_count": null,
   "metadata": {},
   "outputs": [],
   "source": [
    "filter_option = FilterType.Artificial                # On grid\n",
    "input_signal_option = InputSignalType.Artificial     # White noise\n",
    "experiment_mean_location, experiment_deviation_location, experiment_mean_weight, experiment_deviation_weight, experiment_success_percentage = \\\n",
    "test_set.benchmark(init_option, filter_option, input_signal_option, E, nF, F, T, M, K)\n",
    "file_name = \"nF=\" + str(nF) + \"_\" + filter_option.name + \"_\" + input_signal_option.name + \"_\" + \"M=\" + str(M) + \"_\" + \"K=\" + str(K) + \".tex\"\n",
    "test_tools.save_results_to_latex(experiment_mean_location, experiment_deviation_location, experiment_mean_weight, experiment_deviation_weight, \\\n",
    "                          experiment_success_percentage, file_name)"
   ]
  },
  {
   "cell_type": "code",
   "execution_count": 3,
   "metadata": {},
   "outputs": [],
   "source": [
    "filter_option = FilterType.Artificial                # On grid\n",
    "input_signal_option = InputSignalType.Speech         # Speech\n",
    "experiment_mean_location, experiment_deviation_location, experiment_mean_weight, experiment_deviation_weight, experiment_success_percentage = \\\n",
    "test_set.benchmark(init_option, filter_option, input_signal_option, E, nF, F, T, M, K)\n",
    "file_name = \"nF=\" + str(nF) + \"_\" + filter_option.name + \"_\" + input_signal_option.name + \"_\" + \"M=\" + str(M) + \"_\" + \"K=\" + str(K) + \".tex\"\n",
    "test_tools.save_results_to_latex(experiment_mean_location, experiment_deviation_location, experiment_mean_weight, experiment_deviation_weight, \\\n",
    "                          experiment_success_percentage, file_name)"
   ]
  },
  {
   "cell_type": "code",
   "execution_count": null,
   "metadata": {},
   "outputs": [],
   "source": [
    "filter_option = FilterType.Simulation                # Off grid\n",
    "input_signal_option = InputSignalType.Artificial     # White noise\n",
    "experiment_mean_location, experiment_deviation_location, experiment_mean_weight, experiment_deviation_weight, experiment_success_percentage = \\\n",
    "test_set.benchmark(init_option, filter_option, input_signal_option, E, nF, F, T, M, K)\n",
    "file_name = \"nF=\" + str(nF) + \"_\" + filter_option.name + \"_\" + input_signal_option.name + \"_\" + \"M=\" + str(M) + \"_\" + \"K=\" + str(K) + \".tex\"\n",
    "test_tools.save_results_to_latex(experiment_mean_location, experiment_deviation_location, experiment_mean_weight, experiment_deviation_weight, \\\n",
    "                          experiment_success_percentage, file_name)"
   ]
  },
  {
   "cell_type": "code",
   "execution_count": 4,
   "metadata": {},
   "outputs": [],
   "source": [
    "filter_option = FilterType.Simulation                # Off grid\n",
    "input_signal_option = InputSignalType.Speech         # Speech\n",
    "experiment_mean_location, experiment_deviation_location, experiment_mean_weight, experiment_deviation_weight, experiment_success_percentage = \\\n",
    "test_set.benchmark(init_option, filter_option, input_signal_option, E, nF, F, T, M, K)\n",
    "file_name = \"nF=\" + str(nF) + \"_\" + filter_option.name + \"_\" + input_signal_option.name + \"_\" + \"M=\" + str(M) + \"_\" + \"K=\" + str(K) + \".tex\"\n",
    "test_tools.save_results_to_latex(experiment_mean_location, experiment_deviation_location, experiment_mean_weight, experiment_deviation_weight, \\\n",
    "                          experiment_success_percentage, file_name)"
   ]
  },
  {
   "cell_type": "markdown",
   "metadata": {},
   "source": [
    "# Phase transition diagrams (location and weight)\n",
    "Computed for two cases: nF=201 and nF=401 -  M=2...7, K=2...7, @16kHz, 1ms min separation."
   ]
  },
  {
   "cell_type": "code",
   "execution_count": null,
   "metadata": {},
   "outputs": [],
   "source": [
    "T = 0.25\n",
    "E = 100\n",
    "F = 16000\n",
    "init_option = InitializationType.Random\n",
    "input_signal_option = InputSignalType.Speech\n",
    "filter_option = FilterType.Simulation"
   ]
  },
  {
   "cell_type": "code",
   "execution_count": null,
   "metadata": {},
   "outputs": [],
   "source": [
    "nF = 201\n",
    "test_set.phase_transition(init_option, filter_option, input_signal_option, E, nF, F, T)"
   ]
  },
  {
   "cell_type": "code",
   "execution_count": null,
   "metadata": {},
   "outputs": [],
   "source": [
    "nF = 401\n",
    "test_set.phase_transition(init_option, filter_option, input_signal_option, E, nF, F, T)"
   ]
  }
 ],
 "metadata": {
  "anaconda-cloud": {},
  "kernelspec": {
   "display_name": "Python [conda root]",
   "language": "python",
   "name": "conda-root-py"
  },
  "language_info": {
   "codemirror_mode": {
    "name": "ipython",
    "version": 3
   },
   "file_extension": ".py",
   "mimetype": "text/x-python",
   "name": "python",
   "nbconvert_exporter": "python",
   "pygments_lexer": "ipython3",
   "version": "3.5.2"
  }
 },
 "nbformat": 4,
 "nbformat_minor": 2
}
